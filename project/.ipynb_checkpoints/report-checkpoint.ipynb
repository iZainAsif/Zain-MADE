{
 "cells": [
  {
   "cell_type": "markdown",
   "id": "14e814c6",
   "metadata": {},
   "source": [
    "# Report: Relationship between climate change and population change in US states from 2010-2019"
   ]
  },
  {
   "cell_type": "markdown",
   "id": "55f8aa4c",
   "metadata": {},
   "source": [
    "### Name: Muhammad Zain Asif\n",
    "### Student registration no.: 23131067"
   ]
  },
  {
   "cell_type": "code",
   "execution_count": null,
   "id": "1772f3e8",
   "metadata": {},
   "outputs": [],
   "source": []
  }
 ],
 "metadata": {
  "kernelspec": {
   "display_name": "Python 3 (ipykernel)",
   "language": "python",
   "name": "python3"
  },
  "language_info": {
   "codemirror_mode": {
    "name": "ipython",
    "version": 3
   },
   "file_extension": ".py",
   "mimetype": "text/x-python",
   "name": "python",
   "nbconvert_exporter": "python",
   "pygments_lexer": "ipython3",
   "version": "3.9.7"
  }
 },
 "nbformat": 4,
 "nbformat_minor": 5
}
